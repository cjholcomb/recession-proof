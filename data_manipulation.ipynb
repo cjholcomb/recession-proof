{
 "cells": [
  {
   "cell_type": "code",
   "execution_count": 2,
   "metadata": {},
   "outputs": [],
   "source": [
    "import pandas as pd\n",
    "import matplotlib.pyplot as pyplot\n",
    "import math\n",
    "import scipy as scipy\n",
    "import numpy as np\n",
    "from varname import nameof\n",
    "import io\n",
    "from src.helper_functions import *\n",
    "from src.lookups import *"
   ]
  },
  {
   "cell_type": "code",
   "execution_count": 37,
   "metadata": {
    "tags": []
   },
   "outputs": [
    {
     "output_type": "stream",
     "name": "stdout",
     "text": "<class 'pandas.core.frame.DataFrame'>\nInt64Index: 149772 entries, 0 to 18343\nData columns (total 16 columns):\n #   Column               Non-Null Count   Dtype  \n---  ------               --------------   -----  \n 0   industry_code        149772 non-null  int32  \n 1   agglvl_code          149772 non-null  object \n 2   year                 149772 non-null  int64  \n 3   qtr                  149772 non-null  int64  \n 4   industry_title       149772 non-null  object \n 5   agglvl_title         149772 non-null  object \n 6   qtrly_estabs_count   149772 non-null  int64  \n 7   month1_emplvl        149772 non-null  int64  \n 8   month2_emplvl        149772 non-null  int64  \n 9   month3_emplvl        149772 non-null  int64  \n 10  total_qtrly_wages    149772 non-null  int64  \n 11  qtrly_contributions  149772 non-null  int64  \n 12  avg_wkly_wage        149772 non-null  int64  \n 13  qtrid                149772 non-null  float64\n 14  dupecheck            149772 non-null  float64\n 15  yearcheck            149772 non-null  int64  \ndtypes: float64(2), int32(1), int64(10), object(3)\nmemory usage: 18.9+ MB\n"
    }
   ],
   "source": [
    "df = import_all(recession_years)\n",
    "df = add_qtrid(df)\n",
    "df = add_dupecheck(df)\n",
    "df = add_yearcheck(df)\n",
    "df.info()"
   ]
  },
  {
   "cell_type": "code",
   "execution_count": 30,
   "metadata": {},
   "outputs": [],
   "source": [
    "def add_dupecheck(df):\n",
    "    df['industry_code'] = df['industry_code'].str.replace('-','').astype('int32')\n",
    "    #df['industry_code'] = df['industry_code'].map(lambda x: x.strip('-'))\n",
    "    #df.astype({'industry_code':'int32'}).dtypes\n",
    "    df['dupecheck'] = ((df['industry_code']) * 10000)+ df['qtrid']\n",
    "    return df"
   ]
  },
  {
   "cell_type": "code",
   "execution_count": 35,
   "metadata": {},
   "outputs": [],
   "source": [
    "def add_yearcheck(df):\n",
    "    df['yearcheck'] = ((df['industry_code']) * 10000)+ df['year']\n",
    "    return df"
   ]
  },
  {
   "cell_type": "code",
   "execution_count": 11,
   "metadata": {
    "tags": []
   },
   "outputs": [
    {
     "output_type": "stream",
     "name": "stdout",
     "text": "5\n"
    }
   ],
   "source": [
    "print(int('5'))"
   ]
  },
  {
   "cell_type": "code",
   "execution_count": 48,
   "metadata": {
    "tags": []
   },
   "outputs": [
    {
     "output_type": "error",
     "ename": "KeyError",
     "evalue": "'None of [None] are in the columns'",
     "traceback": [
      "\u001b[0;31m---------------------------------------------------------------------------\u001b[0m",
      "\u001b[0;31mKeyError\u001b[0m                                  Traceback (most recent call last)",
      "\u001b[0;32m<ipython-input-48-a6f964d03340>\u001b[0m in \u001b[0;36m<module>\u001b[0;34m\u001b[0m\n\u001b[1;32m      1\u001b[0m \u001b[0mdf_employment\u001b[0m \u001b[0;34m=\u001b[0m \u001b[0mdf\u001b[0m\u001b[0;34m.\u001b[0m\u001b[0mpivot_table\u001b[0m\u001b[0;34m(\u001b[0m\u001b[0mcolumns\u001b[0m \u001b[0;34m=\u001b[0m \u001b[0;34m'qtrid'\u001b[0m\u001b[0;34m,\u001b[0m \u001b[0mvalues\u001b[0m \u001b[0;34m=\u001b[0m \u001b[0;34m'month3_emplvl'\u001b[0m\u001b[0;34m,\u001b[0m \u001b[0mindex\u001b[0m \u001b[0;34m=\u001b[0m \u001b[0;34m'industry_code'\u001b[0m\u001b[0;34m,\u001b[0m \u001b[0maggfunc\u001b[0m \u001b[0;34m=\u001b[0m \u001b[0mnp\u001b[0m\u001b[0;34m.\u001b[0m\u001b[0mmax\u001b[0m\u001b[0;34m)\u001b[0m\u001b[0;34m\u001b[0m\u001b[0;34m\u001b[0m\u001b[0m\n\u001b[0;32m----> 2\u001b[0;31m \u001b[0mdf_employment\u001b[0m \u001b[0;34m=\u001b[0m \u001b[0mdf\u001b[0m\u001b[0;34m.\u001b[0m\u001b[0mpivot\u001b[0m\u001b[0;34m(\u001b[0m\u001b[0;34m)\u001b[0m\u001b[0;34m\u001b[0m\u001b[0;34m\u001b[0m\u001b[0m\n\u001b[0m\u001b[1;32m      3\u001b[0m \u001b[0mdf_employment\u001b[0m\u001b[0;34m.\u001b[0m\u001b[0mhead\u001b[0m\u001b[0;34m(\u001b[0m\u001b[0;34m)\u001b[0m\u001b[0;34m\u001b[0m\u001b[0;34m\u001b[0m\u001b[0m\n",
      "\u001b[0;32m~/anaconda3/lib/python3.7/site-packages/pandas/core/frame.py\u001b[0m in \u001b[0;36mpivot\u001b[0;34m(self, index, columns, values)\u001b[0m\n\u001b[1;32m   5921\u001b[0m         \u001b[0;32mfrom\u001b[0m \u001b[0mpandas\u001b[0m\u001b[0;34m.\u001b[0m\u001b[0mcore\u001b[0m\u001b[0;34m.\u001b[0m\u001b[0mreshape\u001b[0m\u001b[0;34m.\u001b[0m\u001b[0mpivot\u001b[0m \u001b[0;32mimport\u001b[0m \u001b[0mpivot\u001b[0m\u001b[0;34m\u001b[0m\u001b[0;34m\u001b[0m\u001b[0m\n\u001b[1;32m   5922\u001b[0m \u001b[0;34m\u001b[0m\u001b[0m\n\u001b[0;32m-> 5923\u001b[0;31m         \u001b[0;32mreturn\u001b[0m \u001b[0mpivot\u001b[0m\u001b[0;34m(\u001b[0m\u001b[0mself\u001b[0m\u001b[0;34m,\u001b[0m \u001b[0mindex\u001b[0m\u001b[0;34m=\u001b[0m\u001b[0mindex\u001b[0m\u001b[0;34m,\u001b[0m \u001b[0mcolumns\u001b[0m\u001b[0;34m=\u001b[0m\u001b[0mcolumns\u001b[0m\u001b[0;34m,\u001b[0m \u001b[0mvalues\u001b[0m\u001b[0;34m=\u001b[0m\u001b[0mvalues\u001b[0m\u001b[0;34m)\u001b[0m\u001b[0;34m\u001b[0m\u001b[0;34m\u001b[0m\u001b[0m\n\u001b[0m\u001b[1;32m   5924\u001b[0m \u001b[0;34m\u001b[0m\u001b[0m\n\u001b[1;32m   5925\u001b[0m     _shared_docs[\n",
      "\u001b[0;32m~/anaconda3/lib/python3.7/site-packages/pandas/core/reshape/pivot.py\u001b[0m in \u001b[0;36mpivot\u001b[0;34m(data, index, columns, values)\u001b[0m\n\u001b[1;32m    431\u001b[0m         \u001b[0mcols\u001b[0m \u001b[0;34m=\u001b[0m \u001b[0;34m[\u001b[0m\u001b[0mcolumns\u001b[0m\u001b[0;34m]\u001b[0m \u001b[0;32mif\u001b[0m \u001b[0mindex\u001b[0m \u001b[0;32mis\u001b[0m \u001b[0;32mNone\u001b[0m \u001b[0;32melse\u001b[0m \u001b[0;34m[\u001b[0m\u001b[0mindex\u001b[0m\u001b[0;34m,\u001b[0m \u001b[0mcolumns\u001b[0m\u001b[0;34m]\u001b[0m\u001b[0;34m\u001b[0m\u001b[0;34m\u001b[0m\u001b[0m\n\u001b[1;32m    432\u001b[0m         \u001b[0mappend\u001b[0m \u001b[0;34m=\u001b[0m \u001b[0mindex\u001b[0m \u001b[0;32mis\u001b[0m \u001b[0;32mNone\u001b[0m\u001b[0;34m\u001b[0m\u001b[0;34m\u001b[0m\u001b[0m\n\u001b[0;32m--> 433\u001b[0;31m         \u001b[0mindexed\u001b[0m \u001b[0;34m=\u001b[0m \u001b[0mdata\u001b[0m\u001b[0;34m.\u001b[0m\u001b[0mset_index\u001b[0m\u001b[0;34m(\u001b[0m\u001b[0mcols\u001b[0m\u001b[0;34m,\u001b[0m \u001b[0mappend\u001b[0m\u001b[0;34m=\u001b[0m\u001b[0mappend\u001b[0m\u001b[0;34m)\u001b[0m\u001b[0;34m\u001b[0m\u001b[0;34m\u001b[0m\u001b[0m\n\u001b[0m\u001b[1;32m    434\u001b[0m     \u001b[0;32melse\u001b[0m\u001b[0;34m:\u001b[0m\u001b[0;34m\u001b[0m\u001b[0;34m\u001b[0m\u001b[0m\n\u001b[1;32m    435\u001b[0m         \u001b[0;32mif\u001b[0m \u001b[0mindex\u001b[0m \u001b[0;32mis\u001b[0m \u001b[0;32mNone\u001b[0m\u001b[0;34m:\u001b[0m\u001b[0;34m\u001b[0m\u001b[0;34m\u001b[0m\u001b[0m\n",
      "\u001b[0;32m~/anaconda3/lib/python3.7/site-packages/pandas/core/frame.py\u001b[0m in \u001b[0;36mset_index\u001b[0;34m(self, keys, drop, append, inplace, verify_integrity)\u001b[0m\n\u001b[1;32m   4301\u001b[0m \u001b[0;34m\u001b[0m\u001b[0m\n\u001b[1;32m   4302\u001b[0m         \u001b[0;32mif\u001b[0m \u001b[0mmissing\u001b[0m\u001b[0;34m:\u001b[0m\u001b[0;34m\u001b[0m\u001b[0;34m\u001b[0m\u001b[0m\n\u001b[0;32m-> 4303\u001b[0;31m             \u001b[0;32mraise\u001b[0m \u001b[0mKeyError\u001b[0m\u001b[0;34m(\u001b[0m\u001b[0;34mf\"None of {missing} are in the columns\"\u001b[0m\u001b[0;34m)\u001b[0m\u001b[0;34m\u001b[0m\u001b[0;34m\u001b[0m\u001b[0m\n\u001b[0m\u001b[1;32m   4304\u001b[0m \u001b[0;34m\u001b[0m\u001b[0m\n\u001b[1;32m   4305\u001b[0m         \u001b[0;32mif\u001b[0m \u001b[0minplace\u001b[0m\u001b[0;34m:\u001b[0m\u001b[0;34m\u001b[0m\u001b[0;34m\u001b[0m\u001b[0m\n",
      "\u001b[0;31mKeyError\u001b[0m: 'None of [None] are in the columns'"
     ]
    }
   ],
   "source": [
    "df_employment = df.pivot_table(columns = 'qtrid', values = 'month3_emplvl', index = 'industry_code', aggfunc = np.max)\n",
    "df_employment = df_employment.pivot_table()\n",
    "df_employment.head()"
   ]
  },
  {
   "cell_type": "code",
   "execution_count": 41,
   "metadata": {},
   "outputs": [
    {
     "output_type": "execute_result",
     "data": {
      "text/plain": "qtrid             2007.1     2007.2     2007.3     2007.4     2008.1  \\\nindustry_code                                                          \n10             8862947.0  8936111.0  9014197.0  9074333.0  9028884.0   \n11               95145.0    95293.0    95841.0    96145.0    95096.0   \n21               28857.0    29240.0    29609.0    29969.0    30114.0   \n22               16162.0    16220.0    16239.0    16270.0    16278.0   \n23              883409.0   890873.0   896200.0   893647.0   884900.0   \n\nqtrid             2008.2     2008.3     2008.4     2009.1     2009.2  ...  \\\nindustry_code                                                         ...   \n10             9059689.0  9108151.0  9131473.0  8967310.0  8984662.0  ...   \n11               95039.0    95491.0    95756.0    94530.0    94770.0  ...   \n21               30536.0    30945.0    31210.0    31148.0    31124.0  ...   \n22               16331.0    16463.0    16406.0    16483.0    16535.0  ...   \n23              885107.0   882760.0   874822.0   841895.0   834796.0  ...   \n\nqtrid             2012.3     2012.4     2013.1     2013.2     2013.3  \\\nindustry_code                                                          \n10             9128346.0  9173740.0  9107736.0  9178547.0  9241547.0   \n11               97049.0    97593.0    97172.0    97775.0    98667.0   \n21               34185.0    34455.0    34557.0    34832.0    35121.0   \n22               17092.0    17128.0    17131.0    17225.0    17292.0   \n23              747553.0   747746.0   738056.0   741539.0   747132.0   \n\nqtrid             2013.4     2014.1     2014.2     2014.3     2014.4  \nindustry_code                                                         \n10             9295722.0  9288442.0  9313909.0  9380061.0  9463005.0  \n11               99294.0    99327.0    99947.0   100748.0   101293.0  \n21               35300.0    35515.0    35730.0    36033.0    36346.0  \n22               17380.0    17381.0    17376.0    17447.0    17471.0  \n23              747079.0   741584.0   750266.0   755520.0   758913.0  \n\n[5 rows x 32 columns]",
      "text/html": "<div>\n<style scoped>\n    .dataframe tbody tr th:only-of-type {\n        vertical-align: middle;\n    }\n\n    .dataframe tbody tr th {\n        vertical-align: top;\n    }\n\n    .dataframe thead th {\n        text-align: right;\n    }\n</style>\n<table border=\"1\" class=\"dataframe\">\n  <thead>\n    <tr style=\"text-align: right;\">\n      <th>qtrid</th>\n      <th>2007.1</th>\n      <th>2007.2</th>\n      <th>2007.3</th>\n      <th>2007.4</th>\n      <th>2008.1</th>\n      <th>2008.2</th>\n      <th>2008.3</th>\n      <th>2008.4</th>\n      <th>2009.1</th>\n      <th>2009.2</th>\n      <th>...</th>\n      <th>2012.3</th>\n      <th>2012.4</th>\n      <th>2013.1</th>\n      <th>2013.2</th>\n      <th>2013.3</th>\n      <th>2013.4</th>\n      <th>2014.1</th>\n      <th>2014.2</th>\n      <th>2014.3</th>\n      <th>2014.4</th>\n    </tr>\n    <tr>\n      <th>industry_code</th>\n      <th></th>\n      <th></th>\n      <th></th>\n      <th></th>\n      <th></th>\n      <th></th>\n      <th></th>\n      <th></th>\n      <th></th>\n      <th></th>\n      <th></th>\n      <th></th>\n      <th></th>\n      <th></th>\n      <th></th>\n      <th></th>\n      <th></th>\n      <th></th>\n      <th></th>\n      <th></th>\n      <th></th>\n    </tr>\n  </thead>\n  <tbody>\n    <tr>\n      <th>10</th>\n      <td>8862947.0</td>\n      <td>8936111.0</td>\n      <td>9014197.0</td>\n      <td>9074333.0</td>\n      <td>9028884.0</td>\n      <td>9059689.0</td>\n      <td>9108151.0</td>\n      <td>9131473.0</td>\n      <td>8967310.0</td>\n      <td>8984662.0</td>\n      <td>...</td>\n      <td>9128346.0</td>\n      <td>9173740.0</td>\n      <td>9107736.0</td>\n      <td>9178547.0</td>\n      <td>9241547.0</td>\n      <td>9295722.0</td>\n      <td>9288442.0</td>\n      <td>9313909.0</td>\n      <td>9380061.0</td>\n      <td>9463005.0</td>\n    </tr>\n    <tr>\n      <th>11</th>\n      <td>95145.0</td>\n      <td>95293.0</td>\n      <td>95841.0</td>\n      <td>96145.0</td>\n      <td>95096.0</td>\n      <td>95039.0</td>\n      <td>95491.0</td>\n      <td>95756.0</td>\n      <td>94530.0</td>\n      <td>94770.0</td>\n      <td>...</td>\n      <td>97049.0</td>\n      <td>97593.0</td>\n      <td>97172.0</td>\n      <td>97775.0</td>\n      <td>98667.0</td>\n      <td>99294.0</td>\n      <td>99327.0</td>\n      <td>99947.0</td>\n      <td>100748.0</td>\n      <td>101293.0</td>\n    </tr>\n    <tr>\n      <th>21</th>\n      <td>28857.0</td>\n      <td>29240.0</td>\n      <td>29609.0</td>\n      <td>29969.0</td>\n      <td>30114.0</td>\n      <td>30536.0</td>\n      <td>30945.0</td>\n      <td>31210.0</td>\n      <td>31148.0</td>\n      <td>31124.0</td>\n      <td>...</td>\n      <td>34185.0</td>\n      <td>34455.0</td>\n      <td>34557.0</td>\n      <td>34832.0</td>\n      <td>35121.0</td>\n      <td>35300.0</td>\n      <td>35515.0</td>\n      <td>35730.0</td>\n      <td>36033.0</td>\n      <td>36346.0</td>\n    </tr>\n    <tr>\n      <th>22</th>\n      <td>16162.0</td>\n      <td>16220.0</td>\n      <td>16239.0</td>\n      <td>16270.0</td>\n      <td>16278.0</td>\n      <td>16331.0</td>\n      <td>16463.0</td>\n      <td>16406.0</td>\n      <td>16483.0</td>\n      <td>16535.0</td>\n      <td>...</td>\n      <td>17092.0</td>\n      <td>17128.0</td>\n      <td>17131.0</td>\n      <td>17225.0</td>\n      <td>17292.0</td>\n      <td>17380.0</td>\n      <td>17381.0</td>\n      <td>17376.0</td>\n      <td>17447.0</td>\n      <td>17471.0</td>\n    </tr>\n    <tr>\n      <th>23</th>\n      <td>883409.0</td>\n      <td>890873.0</td>\n      <td>896200.0</td>\n      <td>893647.0</td>\n      <td>884900.0</td>\n      <td>885107.0</td>\n      <td>882760.0</td>\n      <td>874822.0</td>\n      <td>841895.0</td>\n      <td>834796.0</td>\n      <td>...</td>\n      <td>747553.0</td>\n      <td>747746.0</td>\n      <td>738056.0</td>\n      <td>741539.0</td>\n      <td>747132.0</td>\n      <td>747079.0</td>\n      <td>741584.0</td>\n      <td>750266.0</td>\n      <td>755520.0</td>\n      <td>758913.0</td>\n    </tr>\n  </tbody>\n</table>\n<p>5 rows × 32 columns</p>\n</div>"
     },
     "metadata": {},
     "execution_count": 41
    }
   ],
   "source": [
    "df_establishment = df.pivot_table(columns = 'qtrid', values = 'qtrly_estabs_count', index = 'industry_code', aggfunc = np.max)\n",
    "df_establishment.head()"
   ]
  },
  {
   "cell_type": "code",
   "execution_count": 43,
   "metadata": {},
   "outputs": [
    {
     "output_type": "execute_result",
     "data": {
      "text/plain": "qtrid          2007.1  2007.2  2007.3  2007.4  2008.1  2008.2  2008.3  2008.4  \\\nindustry_code                                                                   \n10              769.0   804.0   769.0   795.0   794.0   827.0   799.0   823.0   \n11                0.0     0.0     0.0     0.0     0.0     0.0   490.0   537.0   \n21                0.0     0.0     0.0     0.0     0.0     0.0   921.0   948.0   \n22             1066.0  1051.0     0.0     0.0     0.0     0.0     0.0     0.0   \n23              796.0   766.0   767.0   816.0   829.0   793.0   802.0   855.0   \n\nqtrid          2009.1  2009.2  ...  2012.3  2012.4  2013.1  2013.2  2013.3  \\\nindustry_code                  ...                                           \n10              807.0   822.0  ...   839.0   853.0   855.0   891.0   852.0   \n11              482.0   483.0  ...   533.0   606.0   543.0   545.0   555.0   \n21              740.0   768.0  ...   880.0   959.0   870.0   885.0   919.0   \n22                0.0     0.0  ...  1191.0     0.0     0.0     0.0     0.0   \n23              840.0   808.0  ...   844.0   886.0   906.0   868.0   863.0   \n\nqtrid          2013.4  2014.1  2014.2  2014.3  2014.4  \nindustry_code                                          \n10              871.0   870.0   908.0   872.0   899.0  \n11              622.0   554.0   565.0   580.0   654.0  \n21              971.0   938.0   937.0   968.0  1049.0  \n22                0.0     0.0  1242.0     0.0     0.0  \n23              916.0   937.0   891.0   897.0   953.0  \n\n[5 rows x 32 columns]",
      "text/html": "<div>\n<style scoped>\n    .dataframe tbody tr th:only-of-type {\n        vertical-align: middle;\n    }\n\n    .dataframe tbody tr th {\n        vertical-align: top;\n    }\n\n    .dataframe thead th {\n        text-align: right;\n    }\n</style>\n<table border=\"1\" class=\"dataframe\">\n  <thead>\n    <tr style=\"text-align: right;\">\n      <th>qtrid</th>\n      <th>2007.1</th>\n      <th>2007.2</th>\n      <th>2007.3</th>\n      <th>2007.4</th>\n      <th>2008.1</th>\n      <th>2008.2</th>\n      <th>2008.3</th>\n      <th>2008.4</th>\n      <th>2009.1</th>\n      <th>2009.2</th>\n      <th>...</th>\n      <th>2012.3</th>\n      <th>2012.4</th>\n      <th>2013.1</th>\n      <th>2013.2</th>\n      <th>2013.3</th>\n      <th>2013.4</th>\n      <th>2014.1</th>\n      <th>2014.2</th>\n      <th>2014.3</th>\n      <th>2014.4</th>\n    </tr>\n    <tr>\n      <th>industry_code</th>\n      <th></th>\n      <th></th>\n      <th></th>\n      <th></th>\n      <th></th>\n      <th></th>\n      <th></th>\n      <th></th>\n      <th></th>\n      <th></th>\n      <th></th>\n      <th></th>\n      <th></th>\n      <th></th>\n      <th></th>\n      <th></th>\n      <th></th>\n      <th></th>\n      <th></th>\n      <th></th>\n      <th></th>\n    </tr>\n  </thead>\n  <tbody>\n    <tr>\n      <th>10</th>\n      <td>769.0</td>\n      <td>804.0</td>\n      <td>769.0</td>\n      <td>795.0</td>\n      <td>794.0</td>\n      <td>827.0</td>\n      <td>799.0</td>\n      <td>823.0</td>\n      <td>807.0</td>\n      <td>822.0</td>\n      <td>...</td>\n      <td>839.0</td>\n      <td>853.0</td>\n      <td>855.0</td>\n      <td>891.0</td>\n      <td>852.0</td>\n      <td>871.0</td>\n      <td>870.0</td>\n      <td>908.0</td>\n      <td>872.0</td>\n      <td>899.0</td>\n    </tr>\n    <tr>\n      <th>11</th>\n      <td>0.0</td>\n      <td>0.0</td>\n      <td>0.0</td>\n      <td>0.0</td>\n      <td>0.0</td>\n      <td>0.0</td>\n      <td>490.0</td>\n      <td>537.0</td>\n      <td>482.0</td>\n      <td>483.0</td>\n      <td>...</td>\n      <td>533.0</td>\n      <td>606.0</td>\n      <td>543.0</td>\n      <td>545.0</td>\n      <td>555.0</td>\n      <td>622.0</td>\n      <td>554.0</td>\n      <td>565.0</td>\n      <td>580.0</td>\n      <td>654.0</td>\n    </tr>\n    <tr>\n      <th>21</th>\n      <td>0.0</td>\n      <td>0.0</td>\n      <td>0.0</td>\n      <td>0.0</td>\n      <td>0.0</td>\n      <td>0.0</td>\n      <td>921.0</td>\n      <td>948.0</td>\n      <td>740.0</td>\n      <td>768.0</td>\n      <td>...</td>\n      <td>880.0</td>\n      <td>959.0</td>\n      <td>870.0</td>\n      <td>885.0</td>\n      <td>919.0</td>\n      <td>971.0</td>\n      <td>938.0</td>\n      <td>937.0</td>\n      <td>968.0</td>\n      <td>1049.0</td>\n    </tr>\n    <tr>\n      <th>22</th>\n      <td>1066.0</td>\n      <td>1051.0</td>\n      <td>0.0</td>\n      <td>0.0</td>\n      <td>0.0</td>\n      <td>0.0</td>\n      <td>0.0</td>\n      <td>0.0</td>\n      <td>0.0</td>\n      <td>0.0</td>\n      <td>...</td>\n      <td>1191.0</td>\n      <td>0.0</td>\n      <td>0.0</td>\n      <td>0.0</td>\n      <td>0.0</td>\n      <td>0.0</td>\n      <td>0.0</td>\n      <td>1242.0</td>\n      <td>0.0</td>\n      <td>0.0</td>\n    </tr>\n    <tr>\n      <th>23</th>\n      <td>796.0</td>\n      <td>766.0</td>\n      <td>767.0</td>\n      <td>816.0</td>\n      <td>829.0</td>\n      <td>793.0</td>\n      <td>802.0</td>\n      <td>855.0</td>\n      <td>840.0</td>\n      <td>808.0</td>\n      <td>...</td>\n      <td>844.0</td>\n      <td>886.0</td>\n      <td>906.0</td>\n      <td>868.0</td>\n      <td>863.0</td>\n      <td>916.0</td>\n      <td>937.0</td>\n      <td>891.0</td>\n      <td>897.0</td>\n      <td>953.0</td>\n    </tr>\n  </tbody>\n</table>\n<p>5 rows × 32 columns</p>\n</div>"
     },
     "metadata": {},
     "execution_count": 43
    }
   ],
   "source": [
    "df_wages = df.pivot_table(columns = 'qtrid', values = 'avg_wkly_wage', index = 'industry_code', aggfunc = np.min)\n",
    "df_wages.head()"
   ]
  },
  {
   "cell_type": "code",
   "execution_count": null,
   "metadata": {},
   "outputs": [],
   "source": [
    "df.set_index('industry_code').join(df_pivoted)\n"
   ]
  }
 ],
 "metadata": {
  "kernelspec": {
   "display_name": "Python 3",
   "language": "python",
   "name": "python3"
  },
  "language_info": {
   "codemirror_mode": {
    "name": "ipython",
    "version": 3
   },
   "file_extension": ".py",
   "mimetype": "text/x-python",
   "name": "python",
   "nbconvert_exporter": "python",
   "pygments_lexer": "ipython3",
   "version": "3.7.6-final"
  }
 },
 "nbformat": 4,
 "nbformat_minor": 4
}